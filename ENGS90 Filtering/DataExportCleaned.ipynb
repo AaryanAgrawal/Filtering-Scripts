{
 "cells": [
  {
   "cell_type": "code",
   "execution_count": null,
   "metadata": {},
   "outputs": [
    {
     "name": "stdout",
     "output_type": "stream",
     "text": [
      "Cleaned data saved to: /Users/aarya/Downloads/ENGS90 Filtering\\cleanedDataFWSBoth_03052025.csv\n"
     ]
    }
   ],
   "source": [
    "import os\n",
    "import pandas as pd\n",
    "\n",
    "# Example filenames (adjust as needed)\n",
    "directory = r'C:\\path\\to\\data'  # Or wherever your data is\n",
    "input_filename = 'FWSInHouse03052025.txt'\n",
    "output_filename = 'cleanedData.csv'\n",
    "\n",
    "# Construct the full path to the input file\n",
    "file_path = os.path.join(directory, input_filename)\n",
    "\n",
    "# Step 1: Read the CSV-like text file\n",
    "df = pd.read_csv(file_path)\n",
    "\n",
    "# Step 2: Basic checks\n",
    "if df.empty:\n",
    "    print(f\"Warning: File {input_filename} is empty.\")\n",
    "\n",
    "# Ensure the file has 'Time' and at least one 'Speed' column\n",
    "if 'Time' not in df.columns or not any(col.endswith('Speed') for col in df.columns):\n",
    "    print(f\"Warning: {input_filename} is missing 'Time' or '...Speed' columns.\")\n",
    "\n",
    "# Step 3: Keep only 'Time' and 'INV_Fast_Motor_Speed'\n",
    "# If you have other speed columns you also want to keep, adjust accordingly.\n",
    "cols_to_keep = ['Time', 'INV_Fast_Motor_Speed']\n",
    "df = df[cols_to_keep]\n",
    "\n",
    "# Step 4: Parse out \"angular_speed:rpm\" text from 'INV_Fast_Motor_Speed'\n",
    "df['INV_Fast_Motor_Speed'] = (\n",
    "    df['INV_Fast_Motor_Speed']\n",
    "    .str.replace('angular_speed:rpm', '', regex=False)  # remove that extra text\n",
    "    .astype(float)  # convert to float\n",
    ")\n",
    "\n",
    "# Step 5: Multiply by -4.7 for scaling\n",
    "df['INV_Fast_Motor_Speed'] = df['INV_Fast_Motor_Speed'] * -4.7\n",
    "\n",
    "# Step 6: Subtract the first time value to make time zero-based\n",
    "first_time_value = df['Time'].iloc[0]\n",
    "df['Time'] = df['Time'] - first_time_value\n",
    "\n",
    "# (Optional) Step 7: Rename columns for clarity\n",
    "df.rename(columns={\n",
    "    'Time': 'Time (s)',            # for example\n",
    "    'INV_Fast_Motor_Speed': 'Motor Speed (rpm)'\n",
    "}, inplace=True)\n",
    "\n",
    "# Step 8: Export to CSV\n",
    "output_path = os.path.join(directory, output_filename)\n",
    "df.to_csv(output_path, index=False)\n",
    "\n",
    "print(f\"Cleaned data saved to: {output_path}\")\n"
   ]
  }
 ],
 "metadata": {
  "kernelspec": {
   "display_name": "Python 3",
   "language": "python",
   "name": "python3"
  },
  "language_info": {
   "codemirror_mode": {
    "name": "ipython",
    "version": 3
   },
   "file_extension": ".py",
   "mimetype": "text/x-python",
   "name": "python",
   "nbconvert_exporter": "python",
   "pygments_lexer": "ipython3",
   "version": "3.13.2"
  }
 },
 "nbformat": 4,
 "nbformat_minor": 2
}
